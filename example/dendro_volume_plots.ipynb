{
 "cells": [
  {
   "cell_type": "code",
   "execution_count": 1,
   "id": "22086934",
   "metadata": {},
   "outputs": [],
   "source": [
    "from dendroplot.plotting import visualize_volume\n",
    "import astropy.units as u\n",
    "import ipyvolume.pylab"
   ]
  },
  {
   "cell_type": "code",
   "execution_count": 2,
   "id": "bd55c2cf",
   "metadata": {},
   "outputs": [
    {
     "name": "stderr",
     "output_type": "stream",
     "text": [
      "/Users/tonywong/Library/Python/3.7/lib/python/site-packages/ipyvolume/pylab.py:593: FutureWarning: marching_cubes_lewiner is deprecated in favor of marching_cubes. marching_cubes_lewiner will be removed in version 0.19\n",
      "  values = measure.marching_cubes_lewiner(data, level)\n"
     ]
    },
    {
     "data": {
      "application/vnd.jupyter.widget-view+json": {
       "model_id": "cf6a093b9f09489ba5f5f88d46385db5",
       "version_major": 2,
       "version_minor": 0
      },
      "text/plain": [
       "VBox(children=(Figure(camera=PerspectiveCamera(fov=46.0, position=(0.0, 0.0, 2.0), projectionMatrix=(1.0, 0.0,…"
      ]
     },
     "metadata": {},
     "output_type": "display_data"
    }
   ],
   "source": [
    "#dir_ = '/Users/alexgreen/Box/ALMALMC/Dendrograms/YSO_scripts/'\n",
    "dir_ = '/Users/tonywong/Box/ALMALMC/30 Doradus Cycle 7/analysis/dendro/feather_250/'\n",
    "cube_location = dir_+'30Dor_12_cycle7.asgn.fits.gz'\n",
    "RAs = [84.705292,84.735785,84.719458,84.768284,84.688917,84.802613,84.568865,\\\n",
    "       84.67695,84.561444,84.75514,84.728895,84.726672]*u.deg\n",
    "DECs = [-69.079003,-69.071474,-60.077081,-69.070499,-69.04761,-69.025504,-69.081416,\\\n",
    "        -69.051177,-69.079705,-69.036991,-69.025066,-69.025835]*u.deg\n",
    "RA = RAs[1]\n",
    "DEC = DECs[1]\n",
    "RA_width=1.0*u.arcmin\n",
    "DEC_width=0.25*u.arcmin\n",
    "visualize_volume(cube_location, RA,DEC,RA_width,DEC_width)"
   ]
  },
  {
   "cell_type": "code",
   "execution_count": 3,
   "id": "388165f9",
   "metadata": {},
   "outputs": [
    {
     "data": {
      "application/vnd.jupyter.widget-view+json": {
       "model_id": "3230cf6ca7d740ca8d5a69109b011450",
       "version_major": 2,
       "version_minor": 0
      },
      "text/plain": [
       "Output()"
      ]
     },
     "metadata": {},
     "output_type": "display_data"
    },
    {
     "ename": "AttributeError",
     "evalue": "'NoneType' object has no attribute 'find'",
     "output_type": "error",
     "traceback": [
      "\u001b[0;31m---------------------------------------------------------------------------\u001b[0m",
      "\u001b[0;31mAttributeError\u001b[0m                            Traceback (most recent call last)",
      "\u001b[0;32m<ipython-input-3-9841d7d18854>\u001b[0m in \u001b[0;36m<module>\u001b[0;34m\u001b[0m\n\u001b[0;32m----> 1\u001b[0;31m \u001b[0mipyvolume\u001b[0m\u001b[0;34m.\u001b[0m\u001b[0mpylab\u001b[0m\u001b[0;34m.\u001b[0m\u001b[0msavefig\u001b[0m\u001b[0;34m(\u001b[0m\u001b[0mdir_\u001b[0m\u001b[0;34m+\u001b[0m\u001b[0;34m'out_volume.png'\u001b[0m\u001b[0;34m)\u001b[0m\u001b[0;34m\u001b[0m\u001b[0;34m\u001b[0m\u001b[0m\n\u001b[0m",
      "\u001b[0;32m~/Library/Python/3.7/lib/python/site-packages/ipyvolume/pylab.py\u001b[0m in \u001b[0;36msavefig\u001b[0;34m(filename, width, height, fig, timeout_seconds, output_widget, headless, devmode)\u001b[0m\n\u001b[1;32m    899\u001b[0m     \u001b[0;32mwith\u001b[0m \u001b[0mopen\u001b[0m\u001b[0;34m(\u001b[0m\u001b[0mfilename\u001b[0m\u001b[0;34m,\u001b[0m \u001b[0;34m\"wb\"\u001b[0m\u001b[0;34m)\u001b[0m \u001b[0;32mas\u001b[0m \u001b[0mf\u001b[0m\u001b[0;34m:\u001b[0m\u001b[0;34m\u001b[0m\u001b[0;34m\u001b[0m\u001b[0m\n\u001b[1;32m    900\u001b[0m         f.write(_screenshot_data(timeout_seconds=timeout_seconds, output_widget=output_widget,\n\u001b[0;32m--> 901\u001b[0;31m         format=format, width=width, height=height, fig=fig, headless=headless, devmode=devmode))\n\u001b[0m\u001b[1;32m    902\u001b[0m \u001b[0;34m\u001b[0m\u001b[0m\n\u001b[1;32m    903\u001b[0m \u001b[0;34m\u001b[0m\u001b[0m\n",
      "\u001b[0;32m~/Library/Python/3.7/lib/python/site-packages/ipyvolume/pylab.py\u001b[0m in \u001b[0;36m_screenshot_data\u001b[0;34m(timeout_seconds, output_widget, format, width, height, fig, headless, devmode)\u001b[0m\n\u001b[1;32m    855\u001b[0m                 \u001b[0mfig\u001b[0m\u001b[0;34m.\u001b[0m\u001b[0mon_screenshot\u001b[0m\u001b[0;34m(\u001b[0m\u001b[0mscreenshot_handler\u001b[0m\u001b[0;34m,\u001b[0m \u001b[0mremove\u001b[0m\u001b[0;34m=\u001b[0m\u001b[0;32mTrue\u001b[0m\u001b[0;34m)\u001b[0m\u001b[0;34m\u001b[0m\u001b[0;34m\u001b[0m\u001b[0m\n\u001b[1;32m    856\u001b[0m         \u001b[0mdata\u001b[0m \u001b[0;34m=\u001b[0m \u001b[0mdata\u001b[0m\u001b[0;34m[\u001b[0m\u001b[0;36m0\u001b[0m\u001b[0;34m]\u001b[0m\u001b[0;34m\u001b[0m\u001b[0;34m\u001b[0m\u001b[0m\n\u001b[0;32m--> 857\u001b[0;31m     \u001b[0mdata\u001b[0m \u001b[0;34m=\u001b[0m \u001b[0mdata\u001b[0m\u001b[0;34m[\u001b[0m\u001b[0mdata\u001b[0m\u001b[0;34m.\u001b[0m\u001b[0mfind\u001b[0m\u001b[0;34m(\u001b[0m\u001b[0;34m\",\"\u001b[0m\u001b[0;34m)\u001b[0m \u001b[0;34m+\u001b[0m \u001b[0;36m1\u001b[0m\u001b[0;34m:\u001b[0m\u001b[0;34m]\u001b[0m\u001b[0;34m\u001b[0m\u001b[0;34m\u001b[0m\u001b[0m\n\u001b[0m\u001b[1;32m    858\u001b[0m     \u001b[0;32mreturn\u001b[0m \u001b[0mbase64\u001b[0m\u001b[0;34m.\u001b[0m\u001b[0mb64decode\u001b[0m\u001b[0;34m(\u001b[0m\u001b[0mdata\u001b[0m\u001b[0;34m)\u001b[0m\u001b[0;34m\u001b[0m\u001b[0;34m\u001b[0m\u001b[0m\n\u001b[1;32m    859\u001b[0m \u001b[0;34m\u001b[0m\u001b[0m\n",
      "\u001b[0;31mAttributeError\u001b[0m: 'NoneType' object has no attribute 'find'"
     ]
    }
   ],
   "source": [
    "ipyvolume.pylab.savefig(dir_+'out_volume.png')"
   ]
  },
  {
   "cell_type": "code",
   "execution_count": null,
   "id": "a37dcd43",
   "metadata": {},
   "outputs": [],
   "source": []
  }
 ],
 "metadata": {
  "kernelspec": {
   "display_name": "Python 3",
   "language": "python",
   "name": "python3"
  },
  "language_info": {
   "codemirror_mode": {
    "name": "ipython",
    "version": 3
   },
   "file_extension": ".py",
   "mimetype": "text/x-python",
   "name": "python",
   "nbconvert_exporter": "python",
   "pygments_lexer": "ipython3",
   "version": "3.7.10"
  }
 },
 "nbformat": 4,
 "nbformat_minor": 5
}
