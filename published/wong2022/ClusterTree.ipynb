{
 "cells": [
  {
   "cell_type": "code",
   "execution_count": 1,
   "id": "1df7ba57",
   "metadata": {},
   "outputs": [],
   "source": [
    "import matplotlib.pyplot as plt\n",
    "from astrodendro import Dendrogram\n",
    "from matplotlib.ticker import ScalarFormatter, FormatStrFormatter"
   ]
  },
  {
   "cell_type": "markdown",
   "id": "13697317",
   "metadata": {},
   "source": [
    "## Generate bottom panel of Figure 4 for Wong et al. (2022) ApJ paper"
   ]
  },
  {
   "cell_type": "code",
   "execution_count": 2,
   "id": "e56f5f06",
   "metadata": {},
   "outputs": [],
   "source": [
    "analdir = 'struct/'"
   ]
  },
  {
   "cell_type": "code",
   "execution_count": 3,
   "id": "e6e5ff90",
   "metadata": {},
   "outputs": [
    {
     "name": "stdout",
     "output_type": "stream",
     "text": [
      "Loading pre-existing dendrogram\n"
     ]
    }
   ],
   "source": [
    "line = '12'\n",
    "label = '30Dor_feather_mosaic_1p8_' + line\n",
    "try:\n",
    "    d = Dendrogram.load_from(analdir+label+'_dendrogram.hdf5')\n",
    "    print('Loading pre-existing dendrogram')\n",
    "except:\n",
    "    print('Could not load',label+'_dendrogram.hdf5')"
   ]
  },
  {
   "cell_type": "markdown",
   "id": "6262064d",
   "metadata": {},
   "source": [
    "### Get cluster id numbers and colors, including id's of substructures"
   ]
  },
  {
   "cell_type": "code",
   "execution_count": 4,
   "id": "c648bbc4",
   "metadata": {},
   "outputs": [],
   "source": [
    "clist = analdir+label+'_clusters.txt'\n",
    "with open(clist, 'r') as data:\n",
    "    clust_id = []\n",
    "    clust_col = []\n",
    "    cld =[]\n",
    "    for txtline in data:\n",
    "        p = txtline.split()\n",
    "        clust_id.append(int(p[0]))\n",
    "        clust_col.append(p[1])\n",
    "        totlist = list(map(int, p[3].split(',')))\n",
    "        totlist.insert(0,int(p[0]))\n",
    "        cld.append(totlist)"
   ]
  },
  {
   "cell_type": "code",
   "execution_count": 5,
   "id": "c2be229f",
   "metadata": {},
   "outputs": [
    {
     "name": "stdout",
     "output_type": "stream",
     "text": [
      "198\n",
      "[5, 10, 30, 34, 48, 49, 51, 59, 61, 78, 84, 94, 98, 113, 115, 126, 137, 159, 161, 182, 258, 276, 288, 290, 301, 302, 303, 408, 425, 434, 448, 461, 466, 470, 481, 499, 517, 521, 531, 550, 556, 576, 581, 582, 612, 620, 633, 656, 660, 665, 676, 726, 751, 763, 764, 830, 846, 877, 913, 1017, 1020, 1027, 1033, 1040, 1044, 1047, 1067, 1081, 1123, 1151, 1152, 1159, 1189, 1195, 1214, 1222, 1237, 1243, 1320, 1337, 1346, 1363, 1408, 1431, 1438, 1441, 1453, 1479, 1494, 1507, 1532, 1581, 1582, 1596, 1610, 1616, 1666, 1678, 1713, 1746, 1751, 1757, 1760, 1791, 1815, 1817, 1835, 1849, 1861, 1879, 1892, 1909, 1912, 1920, 1928, 1930, 1969, 1994, 1999, 2015, 2017, 2038, 2042, 2099, 2123, 2151, 2195, 2213, 2223, 2239, 2247, 2258, 2261, 2263, 2264, 2277, 2317, 2323, 2346, 2350, 2371, 2372, 2373, 2382, 2405, 2449, 2457, 2460, 2467, 2502, 2516, 2545, 2549, 2551, 2588, 2594, 2612, 2614, 2624, 2630, 2632, 2638, 2665, 2710, 2723, 2807, 2821, 2853, 2900, 2978, 3010, 3012, 3037, 3092, 3101, 3128, 3145, 3148, 3164, 3179, 3183, 3219, 3294, 3360, 3362, 3365, 3368, 3394, 3402, 3426, 3427, 3456, 3459, 3465, 3480, 3486, 3513, 3532]\n"
     ]
    }
   ],
   "source": [
    "print(len(clust_id))\n",
    "print(list(clust_id))"
   ]
  },
  {
   "cell_type": "markdown",
   "id": "04e25ea2",
   "metadata": {},
   "source": [
    "### Flatten the list of clusters and substructures"
   ]
  },
  {
   "cell_type": "code",
   "execution_count": 6,
   "id": "041ae64f",
   "metadata": {},
   "outputs": [
    {
     "name": "stdout",
     "output_type": "stream",
     "text": [
      "2424\n"
     ]
    }
   ],
   "source": [
    "cldlist = [item for sublist in cld for item in sublist]\n",
    "print(len(cldlist))"
   ]
  },
  {
   "cell_type": "code",
   "execution_count": 7,
   "id": "ab55dff6",
   "metadata": {},
   "outputs": [
    {
     "data": {
      "image/png": "[encoded data removed]",
      "text/plain": [
       "<Figure size 792x360 with 1 Axes>"
      ]
     },
     "metadata": {
      "needs_background": "light"
     },
     "output_type": "display_data"
    }
   ],
   "source": [
    "# Plot the tree\n",
    "fig = plt.figure(figsize=(11, 5))\n",
    "ax = fig.add_subplot(111)            \n",
    "ax.set_yscale('log')\n",
    "if line == '12':\n",
    "    ax.set_xlim(1900, 2190)\n",
    "    ax.set_ylim(0.5, 40)\n",
    "else:\n",
    "    ax.set_xlim(355, 480)\n",
    "    ax.set_ylim(0.4, 20)\n",
    "ax.yaxis.set_major_formatter(ScalarFormatter())\n",
    "ax.yaxis.set_major_formatter(FormatStrFormatter('%0.0f'))\n",
    "ax.set_xlabel('Structure Number', fontsize=12)\n",
    "ax.set_ylabel('Brightness Temperature [K]', fontsize=12)\n",
    "p = d.plotter()\n",
    "clusts = [d[sidx] for sidx in cldlist]\n",
    "others = [s for s in d.all_structures if s not in clusts]\n",
    "for st in others:\n",
    "    p.plot_tree(ax, structure=[st], color='black', subtree=False, lw=1, ls=':')\n",
    "for i, sidx in enumerate(clust_id):\n",
    "    p.plot_tree(ax, structure=[d[sidx]], color=clust_col[i], lw=1)\n",
    "ax.axes.xaxis.set_visible(False)\n",
    "ax.text(0.02,0.92,'$^{'+line+'}$CO clumps',ha='left',va='center',\n",
    "         fontsize=15,transform=ax.transAxes) \n",
    "plt.savefig(label+'_clust_tree.pdf', bbox_inches='tight')"
   ]
  },
  {
   "cell_type": "code",
   "execution_count": null,
   "id": "76688406",
   "metadata": {},
   "outputs": [],
   "source": []
  }
 ],
 "metadata": {
  "kernelspec": {
   "display_name": "Python 3 (ipykernel)",
   "language": "python",
   "name": "python3"
  },
  "language_info": {
   "codemirror_mode": {
    "name": "ipython",
    "version": 3
   },
   "file_extension": ".py",
   "mimetype": "text/x-python",
   "name": "python",
   "nbconvert_exporter": "python",
   "pygments_lexer": "ipython3",
   "version": "3.9.13"
  }
 },
 "nbformat": 4,
 "nbformat_minor": 5
}
